{
 "cells": [
  {
   "cell_type": "markdown",
   "metadata": {},
   "source": [
    "# Evaluating Gensim Phrases\n",
    "Choosing threshold values."
   ]
  },
  {
   "cell_type": "code",
   "execution_count": null,
   "metadata": {},
   "outputs": [],
   "source": [
    "from gensim.models.phrases import Phrases\n",
    "import pandas as pd\n",
    "import os.path\n",
    "\n",
    "from hidden_vars import TABLES_DIR"
   ]
  },
  {
   "cell_type": "code",
   "execution_count": null,
   "metadata": {},
   "outputs": [],
   "source": [
    "models = {\n",
    "    f\"{n}gram\" : Phrases.load(f\"gensim_phrase_models/{n}gram_phrases.pkl\") \n",
    "    for n in [\"bi\", \"tri\", \"four\"]\n",
    "}\n",
    "\n",
    "phrase_dfs = {\n",
    "    f\"{n}gram_df\" : pd.DataFrame(\n",
    "        models[f\"{n}gram\"].export_phrases().items(),\n",
    "        columns =[\"Phrase\", \"Score\"]\n",
    "    ).sort_values(by=\"Score\")\n",
    "    for n in [\"bi\", \"tri\", \"four\"]\n",
    "}\n",
    "\n",
    "bigram_df = phrase_dfs[\"bigram_df\"]\n",
    "trigram_df = phrase_dfs[\"trigram_df\"]\n",
    "fourgram_df = phrase_dfs[\"fourgram_df\"]\n",
    "\n",
    "del phrase_dfs"
   ]
  },
  {
   "cell_type": "code",
   "execution_count": null,
   "metadata": {},
   "outputs": [],
   "source": [
    "trigram_df[trigram_df[\"Phrase\"] == \"reserve_requirement\"]"
   ]
  },
  {
   "cell_type": "code",
   "execution_count": null,
   "metadata": {},
   "outputs": [],
   "source": [
    "models[\"trigram\"].score_candidate(\"federal_reserve\", \"bank\", [])"
   ]
  },
  {
   "cell_type": "code",
   "execution_count": null,
   "metadata": {},
   "outputs": [],
   "source": [
    "test_sent = [\n",
    "    \"federal\", \"open\", \"market\", \"committee\", \n",
    "    \"meeting\", \n",
    "    \"federal\", \"reserve\", \"bank\", \n",
    "    \"repurchase\", \"agreement\", \n",
    "    \"residential\", \"real\", \"estate\", \n",
    "    \"commercial\", \"real\", \"estate\", \n",
    "    \"core\", \"inflation\", \n",
    "    \"federal\", \"open\",\n",
    "    \"euro\", \"area\",\n",
    "    \"maximum\", \"employment\",\n",
    "    \"federal\", \"fund\", \"rate\",\n",
    "    \"board\", \"governor\", \"federal\", \"reserve\", \"system\"\n",
    "]\n",
    "\n",
    "n_gram_word_list = test_sent\n",
    "for phrase_model in models.values():\n",
    "    print(phrase_model)\n",
    "    n_gram_word_list = phrase_model[n_gram_word_list]\n",
    "\n",
    "for _ in n_gram_word_list:\n",
    "    print(_)\n",
    "\n",
    "del test_sent, n_gram_word_list, phrase_model"
   ]
  },
  {
   "cell_type": "markdown",
   "metadata": {},
   "source": [
    "## Getting list of identified n-grams & frequency"
   ]
  },
  {
   "cell_type": "code",
   "execution_count": null,
   "metadata": {},
   "outputs": [],
   "source": [
    "models[\"fourgram\"].score_candidate(\"united\", \"kingdom\", [])"
   ]
  },
  {
   "cell_type": "markdown",
   "metadata": {},
   "source": [
    "[NPMI score should be < 1](https://github.com/RaRe-Technologies/gensim/issues/3042)"
   ]
  },
  {
   "cell_type": "code",
   "execution_count": null,
   "metadata": {},
   "outputs": [],
   "source": [
    "phrase_list = list(bigram_df[\"Phrase\"]) + list(trigram_df[\"Phrase\"]) + list(fourgram_df[\"Phrase\"])\n",
    "phrase_list = list(set(phrase_list))\n",
    "\n",
    "new = []\n",
    "for i in phrase_list:\n",
    "    add_i = True\n",
    "    for j in phrase_list:\n",
    "        if i != j and i in j:\n",
    "            add_i = False\n",
    "            break\n",
    "\n",
    "    if add_i:\n",
    "        new.append(i)\n",
    "\n",
    "phrase_list = [\n",
    "    tuple(phrase.split(\"_\"))\n",
    "    for phrase in new\n",
    "]\n",
    "\n",
    "del new, i, j, add_i"
   ]
  },
  {
   "cell_type": "code",
   "execution_count": null,
   "metadata": {},
   "outputs": [],
   "source": [
    "n_gram_freq_df = pd.read_csv(\"n_grams.csv\", nrows=1000, usecols=[\"n_gram\", \"frequency\"])\n",
    "\n",
    "def get_freq(phrase_tuple):\n",
    "    df_slice = n_gram_freq_df[n_gram_freq_df[\"n_gram\"] == str(phrase_tuple)]\n",
    "    if len(df_slice) != 1:\n",
    "        return pd.NA\n",
    "    return int(df_slice[\"frequency\"])\n",
    "\n",
    "phrase_df = pd.DataFrame({\n",
    "    \"Phrase\": [\" \".join(phrase) for phrase in phrase_list],\n",
    "    \"Frequency\": [get_freq(phrase) for phrase in phrase_list],\n",
    "}).sort_values(by=\"Frequency\", ascending=False)\n",
    "phrase_df.index = range(1, len(phrase_df)+1)\n",
    "\n",
    "del n_gram_freq_df, phrase_list"
   ]
  },
  {
   "cell_type": "code",
   "execution_count": null,
   "metadata": {},
   "outputs": [],
   "source": [
    "label = \"phrase_frequency\"\n",
    "s = phrase_df.style\n",
    "#s.hide(axis=\"index\")\n",
    "s.format(\"{:,.0f}\".format, subset=\"Frequency\")\n",
    "s.to_latex(\n",
    "    buf = os.path.join(TABLES_DIR, f\"{label}.tex\"),\n",
    "    environment=\"longtable\",\n",
    "    label=label,\n",
    "    hrules=True,\n",
    "    caption=(\n",
    "        \"Identified phrases using the collocation statistics of \\\\texttt{fomc\\char`_documents.csv}\",\n",
    "        \"Identified phrases\"\n",
    "    )\n",
    ")\n",
    "\n",
    "del label, s"
   ]
  }
 ],
 "metadata": {
  "kernelspec": {
   "display_name": "base",
   "language": "python",
   "name": "python3"
  },
  "language_info": {
   "codemirror_mode": {
    "name": "ipython",
    "version": 3
   },
   "file_extension": ".py",
   "mimetype": "text/x-python",
   "name": "python",
   "nbconvert_exporter": "python",
   "pygments_lexer": "ipython3",
   "version": "3.9.13"
  },
  "orig_nbformat": 4
 },
 "nbformat": 4,
 "nbformat_minor": 2
}
